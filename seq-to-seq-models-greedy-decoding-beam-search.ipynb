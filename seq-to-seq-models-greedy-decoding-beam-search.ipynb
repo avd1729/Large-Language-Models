{
 "cells": [
  {
   "cell_type": "markdown",
   "id": "45550ae0",
   "metadata": {
    "papermill": {
     "duration": 0.004539,
     "end_time": "2025-06-16T13:16:04.716001",
     "exception": false,
     "start_time": "2025-06-16T13:16:04.711462",
     "status": "completed"
    },
    "tags": []
   },
   "source": [
    "# **Setting up the environment**"
   ]
  },
  {
   "cell_type": "code",
   "execution_count": 1,
   "id": "87942321",
   "metadata": {
    "execution": {
     "iopub.execute_input": "2025-06-16T13:16:04.726046Z",
     "iopub.status.busy": "2025-06-16T13:16:04.725441Z",
     "iopub.status.idle": "2025-06-16T13:16:04.733081Z",
     "shell.execute_reply": "2025-06-16T13:16:04.732238Z"
    },
    "papermill": {
     "duration": 0.014561,
     "end_time": "2025-06-16T13:16:04.734908",
     "exception": false,
     "start_time": "2025-06-16T13:16:04.720347",
     "status": "completed"
    },
    "tags": []
   },
   "outputs": [],
   "source": [
    "import warnings\n",
    "warnings.filterwarnings('ignore')"
   ]
  },
  {
   "cell_type": "code",
   "execution_count": 2,
   "id": "05133195",
   "metadata": {
    "execution": {
     "iopub.execute_input": "2025-06-16T13:16:04.744394Z",
     "iopub.status.busy": "2025-06-16T13:16:04.744147Z",
     "iopub.status.idle": "2025-06-16T13:16:16.704211Z",
     "shell.execute_reply": "2025-06-16T13:16:16.703473Z"
    },
    "papermill": {
     "duration": 11.967303,
     "end_time": "2025-06-16T13:16:16.706489",
     "exception": false,
     "start_time": "2025-06-16T13:16:04.739186",
     "status": "completed"
    },
    "tags": []
   },
   "outputs": [],
   "source": [
    "import numpy as np\n",
    "import tensorflow as tf"
   ]
  },
  {
   "cell_type": "code",
   "execution_count": 3,
   "id": "0fb02fd6",
   "metadata": {
    "execution": {
     "iopub.execute_input": "2025-06-16T13:16:16.718166Z",
     "iopub.status.busy": "2025-06-16T13:16:16.717641Z",
     "iopub.status.idle": "2025-06-16T13:16:17.012183Z",
     "shell.execute_reply": "2025-06-16T13:16:17.011352Z"
    },
    "papermill": {
     "duration": 0.301759,
     "end_time": "2025-06-16T13:16:17.014191",
     "exception": false,
     "start_time": "2025-06-16T13:16:16.712432",
     "status": "completed"
    },
    "tags": []
   },
   "outputs": [
    {
     "name": "stdout",
     "output_type": "stream",
     "text": [
      "Downloading data from https://storage.googleapis.com/download.tensorflow.org/data/spa-eng.zip\n",
      "2638744/2638744 [==============================] - 0s 0us/step\n"
     ]
    }
   ],
   "source": [
    "from pathlib import Path\n",
    "\n",
    "url = \"https://storage.googleapis.com/download.tensorflow.org/data/spa-eng.zip\"\n",
    "path = tf.keras.utils.get_file(\"spa-eng.zip\", origin=url, cache_dir=\"datasets\",\n",
    "                               extract=True)\n",
    "text = (Path(path).with_name(\"spa-eng\") / \"spa.txt\").read_text()"
   ]
  },
  {
   "cell_type": "code",
   "execution_count": 4,
   "id": "a9283a17",
   "metadata": {
    "execution": {
     "iopub.execute_input": "2025-06-16T13:16:17.024553Z",
     "iopub.status.busy": "2025-06-16T13:16:17.024281Z",
     "iopub.status.idle": "2025-06-16T13:16:17.575692Z",
     "shell.execute_reply": "2025-06-16T13:16:17.574657Z"
    },
    "papermill": {
     "duration": 0.559044,
     "end_time": "2025-06-16T13:16:17.578046",
     "exception": false,
     "start_time": "2025-06-16T13:16:17.019002",
     "status": "completed"
    },
    "tags": []
   },
   "outputs": [],
   "source": [
    "np.random.seed(42)\n",
    "\n",
    "text = text.replace(\"¡\", \"\").replace(\"¿\", \"\")\n",
    "pairs = [line.split(\"\\t\") for line in text.splitlines()]\n",
    "np.random.shuffle(pairs)\n",
    "sentences_en, sentences_es = zip(*pairs)  # separates the pairs into 2 lists"
   ]
  },
  {
   "cell_type": "code",
   "execution_count": 5,
   "id": "5dd57cb1",
   "metadata": {
    "execution": {
     "iopub.execute_input": "2025-06-16T13:16:17.589072Z",
     "iopub.status.busy": "2025-06-16T13:16:17.588344Z",
     "iopub.status.idle": "2025-06-16T13:16:17.593615Z",
     "shell.execute_reply": "2025-06-16T13:16:17.592605Z"
    },
    "papermill": {
     "duration": 0.012581,
     "end_time": "2025-06-16T13:16:17.595540",
     "exception": false,
     "start_time": "2025-06-16T13:16:17.582959",
     "status": "completed"
    },
    "tags": []
   },
   "outputs": [
    {
     "name": "stdout",
     "output_type": "stream",
     "text": [
      "How boring! => Qué aburrimiento!\n",
      "I love sports. => Adoro el deporte.\n",
      "Would you like to swap jobs? => Te gustaría que intercambiemos los trabajos?\n"
     ]
    }
   ],
   "source": [
    "for i in range(3):\n",
    "    print(sentences_en[i], \"=>\", sentences_es[i])"
   ]
  },
  {
   "cell_type": "code",
   "execution_count": 6,
   "id": "f1fa14da",
   "metadata": {
    "execution": {
     "iopub.execute_input": "2025-06-16T13:16:17.605765Z",
     "iopub.status.busy": "2025-06-16T13:16:17.605470Z",
     "iopub.status.idle": "2025-06-16T13:16:32.208636Z",
     "shell.execute_reply": "2025-06-16T13:16:32.207800Z"
    },
    "papermill": {
     "duration": 14.610831,
     "end_time": "2025-06-16T13:16:32.210977",
     "exception": false,
     "start_time": "2025-06-16T13:16:17.600146",
     "status": "completed"
    },
    "tags": []
   },
   "outputs": [],
   "source": [
    "vocab_size = 1000\n",
    "max_length = 50\n",
    "text_vec_layer_en = tf.keras.layers.TextVectorization(\n",
    "    vocab_size, output_sequence_length=max_length)\n",
    "text_vec_layer_es = tf.keras.layers.TextVectorization(\n",
    "    vocab_size, output_sequence_length=max_length)\n",
    "text_vec_layer_en.adapt(sentences_en)\n",
    "text_vec_layer_es.adapt([f\"startofseq {s} endofseq\" for s in sentences_es])"
   ]
  },
  {
   "cell_type": "code",
   "execution_count": 7,
   "id": "521ea251",
   "metadata": {
    "execution": {
     "iopub.execute_input": "2025-06-16T13:16:32.221856Z",
     "iopub.status.busy": "2025-06-16T13:16:32.221526Z",
     "iopub.status.idle": "2025-06-16T13:16:32.231894Z",
     "shell.execute_reply": "2025-06-16T13:16:32.230913Z"
    },
    "papermill": {
     "duration": 0.017571,
     "end_time": "2025-06-16T13:16:32.233672",
     "exception": false,
     "start_time": "2025-06-16T13:16:32.216101",
     "status": "completed"
    },
    "tags": []
   },
   "outputs": [
    {
     "data": {
      "text/plain": [
       "['', '[UNK]', 'the', 'i', 'to', 'you', 'tom', 'a', 'is', 'he']"
      ]
     },
     "execution_count": 7,
     "metadata": {},
     "output_type": "execute_result"
    }
   ],
   "source": [
    "text_vec_layer_en.get_vocabulary()[:10]"
   ]
  },
  {
   "cell_type": "code",
   "execution_count": 8,
   "id": "569cdd1a",
   "metadata": {
    "execution": {
     "iopub.execute_input": "2025-06-16T13:16:32.244260Z",
     "iopub.status.busy": "2025-06-16T13:16:32.244014Z",
     "iopub.status.idle": "2025-06-16T13:16:32.252231Z",
     "shell.execute_reply": "2025-06-16T13:16:32.251469Z"
    },
    "papermill": {
     "duration": 0.01562,
     "end_time": "2025-06-16T13:16:32.253905",
     "exception": false,
     "start_time": "2025-06-16T13:16:32.238285",
     "status": "completed"
    },
    "tags": []
   },
   "outputs": [
    {
     "data": {
      "text/plain": [
       "['', '[UNK]', 'startofseq', 'endofseq', 'de', 'que', 'a', 'no', 'tom', 'la']"
      ]
     },
     "execution_count": 8,
     "metadata": {},
     "output_type": "execute_result"
    }
   ],
   "source": [
    "text_vec_layer_es.get_vocabulary()[:10]"
   ]
  },
  {
   "cell_type": "code",
   "execution_count": 9,
   "id": "267b13bb",
   "metadata": {
    "execution": {
     "iopub.execute_input": "2025-06-16T13:16:32.264633Z",
     "iopub.status.busy": "2025-06-16T13:16:32.264010Z",
     "iopub.status.idle": "2025-06-16T13:16:33.166880Z",
     "shell.execute_reply": "2025-06-16T13:16:33.166045Z"
    },
    "papermill": {
     "duration": 0.910598,
     "end_time": "2025-06-16T13:16:33.169058",
     "exception": false,
     "start_time": "2025-06-16T13:16:32.258460",
     "status": "completed"
    },
    "tags": []
   },
   "outputs": [],
   "source": [
    "X_train = tf.constant(sentences_en[:100_000])\n",
    "X_valid = tf.constant(sentences_en[100_000:])\n",
    "X_train_dec = tf.constant([f\"startofseq {s}\" for s in sentences_es[:100_000]])\n",
    "X_valid_dec = tf.constant([f\"startofseq {s}\" for s in sentences_es[100_000:]])\n",
    "Y_train = text_vec_layer_es([f\"{s} endofseq\" for s in sentences_es[:100_000]])\n",
    "Y_valid = text_vec_layer_es([f\"{s} endofseq\" for s in sentences_es[100_000:]])"
   ]
  },
  {
   "cell_type": "code",
   "execution_count": 10,
   "id": "cedfcbcd",
   "metadata": {
    "execution": {
     "iopub.execute_input": "2025-06-16T13:16:33.180520Z",
     "iopub.status.busy": "2025-06-16T13:16:33.180215Z",
     "iopub.status.idle": "2025-06-16T13:16:33.196779Z",
     "shell.execute_reply": "2025-06-16T13:16:33.196114Z"
    },
    "papermill": {
     "duration": 0.024295,
     "end_time": "2025-06-16T13:16:33.198537",
     "exception": false,
     "start_time": "2025-06-16T13:16:33.174242",
     "status": "completed"
    },
    "tags": []
   },
   "outputs": [],
   "source": [
    "tf.random.set_seed(42) \n",
    "encoder_inputs = tf.keras.layers.Input(shape=[], dtype=tf.string)\n",
    "decoder_inputs = tf.keras.layers.Input(shape=[], dtype=tf.string)"
   ]
  },
  {
   "cell_type": "code",
   "execution_count": 11,
   "id": "09691ac2",
   "metadata": {
    "execution": {
     "iopub.execute_input": "2025-06-16T13:16:33.209617Z",
     "iopub.status.busy": "2025-06-16T13:16:33.209331Z",
     "iopub.status.idle": "2025-06-16T13:16:33.310451Z",
     "shell.execute_reply": "2025-06-16T13:16:33.309775Z"
    },
    "papermill": {
     "duration": 0.109138,
     "end_time": "2025-06-16T13:16:33.312555",
     "exception": false,
     "start_time": "2025-06-16T13:16:33.203417",
     "status": "completed"
    },
    "tags": []
   },
   "outputs": [],
   "source": [
    "embed_size = 128\n",
    "encoder_input_ids = text_vec_layer_en(encoder_inputs)\n",
    "decoder_input_ids = text_vec_layer_es(decoder_inputs)\n",
    "encoder_embedding_layer = tf.keras.layers.Embedding(vocab_size, embed_size,\n",
    "                                                    mask_zero=True)\n",
    "decoder_embedding_layer = tf.keras.layers.Embedding(vocab_size, embed_size,\n",
    "                                                    mask_zero=True)\n",
    "encoder_embeddings = encoder_embedding_layer(encoder_input_ids)\n",
    "decoder_embeddings = decoder_embedding_layer(decoder_input_ids)"
   ]
  },
  {
   "cell_type": "markdown",
   "id": "8d329263",
   "metadata": {
    "papermill": {
     "duration": 0.004445,
     "end_time": "2025-06-16T13:16:33.321827",
     "exception": false,
     "start_time": "2025-06-16T13:16:33.317382",
     "status": "completed"
    },
    "tags": []
   },
   "source": [
    "# **Bidirectional RNNs - Sequence to Sequence Model**"
   ]
  },
  {
   "cell_type": "code",
   "execution_count": 12,
   "id": "a21f492a",
   "metadata": {
    "execution": {
     "iopub.execute_input": "2025-06-16T13:16:33.332067Z",
     "iopub.status.busy": "2025-06-16T13:16:33.331822Z",
     "iopub.status.idle": "2025-06-16T13:16:33.352421Z",
     "shell.execute_reply": "2025-06-16T13:16:33.351779Z"
    },
    "papermill": {
     "duration": 0.027804,
     "end_time": "2025-06-16T13:16:33.354122",
     "exception": false,
     "start_time": "2025-06-16T13:16:33.326318",
     "status": "completed"
    },
    "tags": []
   },
   "outputs": [],
   "source": [
    "tf.random.set_seed(42)  # extra code – ensures reproducibility on CPU\n",
    "encoder = tf.keras.layers.Bidirectional(\n",
    "    tf.keras.layers.LSTM(256, return_state=True))"
   ]
  },
  {
   "cell_type": "code",
   "execution_count": 13,
   "id": "4bcf1bdf",
   "metadata": {
    "execution": {
     "iopub.execute_input": "2025-06-16T13:16:33.364388Z",
     "iopub.status.busy": "2025-06-16T13:16:33.364131Z",
     "iopub.status.idle": "2025-06-16T13:16:35.035537Z",
     "shell.execute_reply": "2025-06-16T13:16:35.034762Z"
    },
    "papermill": {
     "duration": 1.679099,
     "end_time": "2025-06-16T13:16:35.037704",
     "exception": false,
     "start_time": "2025-06-16T13:16:33.358605",
     "status": "completed"
    },
    "tags": []
   },
   "outputs": [],
   "source": [
    "encoder_outputs, *encoder_state = encoder(encoder_embeddings)\n",
    "encoder_state = [tf.concat(encoder_state[::2], axis=-1),  # short-term (0 & 2)\n",
    "                 tf.concat(encoder_state[1::2], axis=-1)]  # long-term (1 & 3)"
   ]
  },
  {
   "cell_type": "code",
   "execution_count": 14,
   "id": "461c1404",
   "metadata": {
    "execution": {
     "iopub.execute_input": "2025-06-16T13:16:35.049418Z",
     "iopub.status.busy": "2025-06-16T13:16:35.048541Z",
     "iopub.status.idle": "2025-06-16T13:32:01.373249Z",
     "shell.execute_reply": "2025-06-16T13:32:01.372179Z"
    },
    "papermill": {
     "duration": 926.332404,
     "end_time": "2025-06-16T13:32:01.375307",
     "exception": false,
     "start_time": "2025-06-16T13:16:35.042903",
     "status": "completed"
    },
    "tags": []
   },
   "outputs": [
    {
     "name": "stdout",
     "output_type": "stream",
     "text": [
      "Epoch 1/15\n",
      "3125/3125 [==============================] - 104s 28ms/step - loss: 2.7680 - accuracy: 0.4507 - val_loss: 1.9886 - val_accuracy: 0.5548\n",
      "Epoch 2/15\n",
      "3125/3125 [==============================] - 60s 19ms/step - loss: 1.6996 - accuracy: 0.6018 - val_loss: 1.5497 - val_accuracy: 0.6308\n",
      "Epoch 3/15\n",
      "3125/3125 [==============================] - 58s 19ms/step - loss: 1.3489 - accuracy: 0.6669 - val_loss: 1.3757 - val_accuracy: 0.6653\n",
      "Epoch 4/15\n",
      "3125/3125 [==============================] - 60s 19ms/step - loss: 1.1504 - accuracy: 0.7054 - val_loss: 1.2942 - val_accuracy: 0.6802\n",
      "Epoch 5/15\n",
      "3125/3125 [==============================] - 59s 19ms/step - loss: 1.0056 - accuracy: 0.7349 - val_loss: 1.2680 - val_accuracy: 0.6860\n",
      "Epoch 6/15\n",
      "3125/3125 [==============================] - 59s 19ms/step - loss: 0.8887 - accuracy: 0.7601 - val_loss: 1.2624 - val_accuracy: 0.6890\n",
      "Epoch 7/15\n",
      "3125/3125 [==============================] - 59s 19ms/step - loss: 0.7888 - accuracy: 0.7823 - val_loss: 1.2762 - val_accuracy: 0.6896\n",
      "Epoch 8/15\n",
      "3125/3125 [==============================] - 59s 19ms/step - loss: 0.7008 - accuracy: 0.8035 - val_loss: 1.3027 - val_accuracy: 0.6906\n",
      "Epoch 9/15\n",
      "3125/3125 [==============================] - 60s 19ms/step - loss: 0.6241 - accuracy: 0.8208 - val_loss: 1.3323 - val_accuracy: 0.6881\n",
      "Epoch 10/15\n",
      "3125/3125 [==============================] - 58s 19ms/step - loss: 0.5594 - accuracy: 0.8375 - val_loss: 1.3680 - val_accuracy: 0.6843\n",
      "Epoch 11/15\n",
      "3125/3125 [==============================] - 59s 19ms/step - loss: 0.5022 - accuracy: 0.8513 - val_loss: 1.4139 - val_accuracy: 0.6830\n",
      "Epoch 12/15\n",
      "3125/3125 [==============================] - 58s 19ms/step - loss: 0.4544 - accuracy: 0.8640 - val_loss: 1.4645 - val_accuracy: 0.6806\n",
      "Epoch 13/15\n",
      "3125/3125 [==============================] - 59s 19ms/step - loss: 0.4141 - accuracy: 0.8744 - val_loss: 1.5076 - val_accuracy: 0.6775\n",
      "Epoch 14/15\n",
      "3125/3125 [==============================] - 58s 19ms/step - loss: 0.3809 - accuracy: 0.8838 - val_loss: 1.5591 - val_accuracy: 0.6761\n",
      "Epoch 15/15\n",
      "3125/3125 [==============================] - 56s 18ms/step - loss: 0.3545 - accuracy: 0.8907 - val_loss: 1.6036 - val_accuracy: 0.6762\n"
     ]
    },
    {
     "data": {
      "text/plain": [
       "<keras.callbacks.History at 0x7bb7290ad300>"
      ]
     },
     "execution_count": 14,
     "metadata": {},
     "output_type": "execute_result"
    }
   ],
   "source": [
    "decoder = tf.keras.layers.LSTM(512, return_sequences=True)\n",
    "decoder_outputs = decoder(decoder_embeddings, initial_state=encoder_state)\n",
    "output_layer = tf.keras.layers.Dense(vocab_size, activation=\"softmax\")\n",
    "Y_proba = output_layer(decoder_outputs)\n",
    "model = tf.keras.Model(inputs=[encoder_inputs, decoder_inputs],\n",
    "                       outputs=[Y_proba])\n",
    "model.compile(loss=\"sparse_categorical_crossentropy\", optimizer=\"nadam\",\n",
    "              metrics=[\"accuracy\"])\n",
    "model.fit((X_train, X_train_dec), Y_train, epochs=15,\n",
    "          validation_data=((X_valid, X_valid_dec), Y_valid))"
   ]
  },
  {
   "cell_type": "markdown",
   "id": "aaaf6370",
   "metadata": {
    "papermill": {
     "duration": 0.646386,
     "end_time": "2025-06-16T13:32:02.761368",
     "exception": false,
     "start_time": "2025-06-16T13:32:02.114982",
     "status": "completed"
    },
    "tags": []
   },
   "source": [
    "# **Greedy Decoding**"
   ]
  },
  {
   "cell_type": "code",
   "execution_count": 15,
   "id": "5d2085af",
   "metadata": {
    "execution": {
     "iopub.execute_input": "2025-06-16T13:32:04.104191Z",
     "iopub.status.busy": "2025-06-16T13:32:04.103117Z",
     "iopub.status.idle": "2025-06-16T13:32:04.109936Z",
     "shell.execute_reply": "2025-06-16T13:32:04.109179Z"
    },
    "papermill": {
     "duration": 0.658228,
     "end_time": "2025-06-16T13:32:04.111541",
     "exception": false,
     "start_time": "2025-06-16T13:32:03.453313",
     "status": "completed"
    },
    "tags": []
   },
   "outputs": [],
   "source": [
    "def translate(sentence_en):\n",
    "    translation = \"\"\n",
    "    for word_idx in range(max_length):\n",
    "        X = np.array([sentence_en])  # encoder input \n",
    "        X_dec = np.array([\"startofseq \" + translation])  # decoder input\n",
    "        y_proba = model.predict((X, X_dec))[0, word_idx]  # last token's probas\n",
    "        predicted_word_id = np.argmax(y_proba)\n",
    "        predicted_word = text_vec_layer_es.get_vocabulary()[predicted_word_id]\n",
    "        if predicted_word == \"endofseq\":\n",
    "            break\n",
    "        translation += \" \" + predicted_word\n",
    "    return translation.strip()"
   ]
  },
  {
   "cell_type": "code",
   "execution_count": 16,
   "id": "0f1c5365",
   "metadata": {
    "execution": {
     "iopub.execute_input": "2025-06-16T13:32:05.445222Z",
     "iopub.status.busy": "2025-06-16T13:32:05.444411Z",
     "iopub.status.idle": "2025-06-16T13:32:09.161851Z",
     "shell.execute_reply": "2025-06-16T13:32:09.161104Z"
    },
    "papermill": {
     "duration": 4.361522,
     "end_time": "2025-06-16T13:32:09.163483",
     "exception": false,
     "start_time": "2025-06-16T13:32:04.801961",
     "status": "completed"
    },
    "tags": []
   },
   "outputs": [
    {
     "name": "stdout",
     "output_type": "stream",
     "text": [
      "1/1 [==============================] - 3s 3s/step\n",
      "1/1 [==============================] - 0s 24ms/step\n",
      "1/1 [==============================] - 0s 23ms/step\n",
      "1/1 [==============================] - 0s 21ms/step\n",
      "1/1 [==============================] - 0s 23ms/step\n"
     ]
    },
    {
     "data": {
      "text/plain": [
       "'me gusta el fútbol'"
      ]
     },
     "execution_count": 16,
     "metadata": {},
     "output_type": "execute_result"
    }
   ],
   "source": [
    "translate(\"I like soccer\")"
   ]
  },
  {
   "cell_type": "code",
   "execution_count": 17,
   "id": "d7563d23",
   "metadata": {
    "execution": {
     "iopub.execute_input": "2025-06-16T13:32:10.533128Z",
     "iopub.status.busy": "2025-06-16T13:32:10.532210Z",
     "iopub.status.idle": "2025-06-16T13:32:11.323691Z",
     "shell.execute_reply": "2025-06-16T13:32:11.322711Z"
    },
    "papermill": {
     "duration": 1.474729,
     "end_time": "2025-06-16T13:32:11.325926",
     "exception": false,
     "start_time": "2025-06-16T13:32:09.851197",
     "status": "completed"
    },
    "tags": []
   },
   "outputs": [
    {
     "name": "stdout",
     "output_type": "stream",
     "text": [
      "1/1 [==============================] - 0s 31ms/step\n",
      "1/1 [==============================] - 0s 23ms/step\n",
      "1/1 [==============================] - 0s 24ms/step\n",
      "1/1 [==============================] - 0s 22ms/step\n",
      "1/1 [==============================] - 0s 22ms/step\n",
      "1/1 [==============================] - 0s 23ms/step\n",
      "1/1 [==============================] - 0s 23ms/step\n",
      "1/1 [==============================] - 0s 23ms/step\n",
      "1/1 [==============================] - 0s 23ms/step\n",
      "1/1 [==============================] - 0s 23ms/step\n",
      "1/1 [==============================] - 0s 24ms/step\n",
      "1/1 [==============================] - 0s 22ms/step\n",
      "1/1 [==============================] - 0s 23ms/step\n"
     ]
    },
    {
     "data": {
      "text/plain": [
       "'me gusta la playa a la playa estoy [UNK] a la playa'"
      ]
     },
     "execution_count": 17,
     "metadata": {},
     "output_type": "execute_result"
    }
   ],
   "source": [
    "translate(\"I like soccer and also going to the beach\")"
   ]
  },
  {
   "cell_type": "code",
   "execution_count": 18,
   "id": "a4023736",
   "metadata": {
    "execution": {
     "iopub.execute_input": "2025-06-16T13:32:12.740647Z",
     "iopub.status.busy": "2025-06-16T13:32:12.740010Z",
     "iopub.status.idle": "2025-06-16T13:32:41.606711Z",
     "shell.execute_reply": "2025-06-16T13:32:41.605707Z"
    },
    "papermill": {
     "duration": 29.557939,
     "end_time": "2025-06-16T13:32:41.608971",
     "exception": false,
     "start_time": "2025-06-16T13:32:12.051032",
     "status": "completed"
    },
    "tags": []
   },
   "outputs": [],
   "source": [
    "model.save(\"bidirecRNN\" , save_format=\"tf\")"
   ]
  },
  {
   "cell_type": "markdown",
   "id": "93fa3313",
   "metadata": {
    "papermill": {
     "duration": 0.709131,
     "end_time": "2025-06-16T13:32:43.024169",
     "exception": false,
     "start_time": "2025-06-16T13:32:42.315038",
     "status": "completed"
    },
    "tags": []
   },
   "source": [
    "# **Beam Search**"
   ]
  },
  {
   "cell_type": "code",
   "execution_count": 19,
   "id": "9ddde2d5",
   "metadata": {
    "execution": {
     "iopub.execute_input": "2025-06-16T13:32:44.353317Z",
     "iopub.status.busy": "2025-06-16T13:32:44.352505Z",
     "iopub.status.idle": "2025-06-16T13:32:44.361530Z",
     "shell.execute_reply": "2025-06-16T13:32:44.360683Z"
    },
    "papermill": {
     "duration": 0.699098,
     "end_time": "2025-06-16T13:32:44.363246",
     "exception": false,
     "start_time": "2025-06-16T13:32:43.664148",
     "status": "completed"
    },
    "tags": []
   },
   "outputs": [],
   "source": [
    "def beam_search(sentence_en, beam_width, verbose=False):\n",
    "    X = np.array([sentence_en])  # encoder input\n",
    "    X_dec = np.array([\"startofseq\"])  # decoder input\n",
    "    y_proba = model.predict((X, X_dec))[0, 0]  # first token's probas\n",
    "    top_k = tf.math.top_k(y_proba, k=beam_width)\n",
    "    top_translations = [  # list of best (log_proba, translation)\n",
    "        (np.log(word_proba), text_vec_layer_es.get_vocabulary()[word_id])\n",
    "        for word_proba, word_id in zip(top_k.values, top_k.indices)\n",
    "    ]\n",
    "    \n",
    "    # extra code – displays the top first words in verbose mode\n",
    "    if verbose:\n",
    "        print(\"Top first words:\", top_translations)\n",
    "\n",
    "    for idx in range(1, max_length):\n",
    "        candidates = []\n",
    "        for log_proba, translation in top_translations:\n",
    "            if translation.endswith(\"endofseq\"):\n",
    "                candidates.append((log_proba, translation))\n",
    "                continue  # translation is finished, so don't try to extend it\n",
    "            X = np.array([sentence_en])  # encoder input\n",
    "            X_dec = np.array([\"startofseq \" + translation])  # decoder input\n",
    "            y_proba = model.predict((X, X_dec))[0, idx]  # last token's proba\n",
    "            for word_id, word_proba in enumerate(y_proba):\n",
    "                word = text_vec_layer_es.get_vocabulary()[word_id]\n",
    "                candidates.append((log_proba + np.log(word_proba),\n",
    "                                   f\"{translation} {word}\"))\n",
    "        top_translations = sorted(candidates, reverse=True)[:beam_width]\n",
    "\n",
    "        # extra code – displays the top translation so far in verbose mode\n",
    "        if verbose:\n",
    "            print(\"Top translations so far:\", top_translations)\n",
    "\n",
    "        if all([tr.endswith(\"endofseq\") for _, tr in top_translations]):\n",
    "            return top_translations[0][1].replace(\"endofseq\", \"\").strip()"
   ]
  },
  {
   "cell_type": "code",
   "execution_count": 20,
   "id": "9d852ef2",
   "metadata": {
    "execution": {
     "iopub.execute_input": "2025-06-16T13:32:45.692377Z",
     "iopub.status.busy": "2025-06-16T13:32:45.692023Z",
     "iopub.status.idle": "2025-06-16T13:32:46.149061Z",
     "shell.execute_reply": "2025-06-16T13:32:46.148280Z"
    },
    "papermill": {
     "duration": 1.156524,
     "end_time": "2025-06-16T13:32:46.150633",
     "exception": false,
     "start_time": "2025-06-16T13:32:44.994109",
     "status": "completed"
    },
    "tags": []
   },
   "outputs": [
    {
     "name": "stdout",
     "output_type": "stream",
     "text": [
      "1/1 [==============================] - 0s 25ms/step\n",
      "1/1 [==============================] - 0s 32ms/step\n",
      "1/1 [==============================] - 0s 25ms/step\n",
      "1/1 [==============================] - 0s 24ms/step\n",
      "1/1 [==============================] - 0s 24ms/step\n",
      "1/1 [==============================] - 0s 25ms/step\n",
      "1/1 [==============================] - 0s 23ms/step\n"
     ]
    },
    {
     "data": {
      "text/plain": [
       "'me [UNK] las perros y chicos'"
      ]
     },
     "execution_count": 20,
     "metadata": {},
     "output_type": "execute_result"
    }
   ],
   "source": [
    "sentence_en = \"I love cats and dogs\"\n",
    "translate(sentence_en)"
   ]
  },
  {
   "cell_type": "code",
   "execution_count": 21,
   "id": "f032f1e5",
   "metadata": {
    "execution": {
     "iopub.execute_input": "2025-06-16T13:32:47.491559Z",
     "iopub.status.busy": "2025-06-16T13:32:47.490870Z",
     "iopub.status.idle": "2025-06-16T13:33:27.700787Z",
     "shell.execute_reply": "2025-06-16T13:33:27.699788Z"
    },
    "papermill": {
     "duration": 40.85766,
     "end_time": "2025-06-16T13:33:27.702570",
     "exception": false,
     "start_time": "2025-06-16T13:32:46.844910",
     "status": "completed"
    },
    "tags": []
   },
   "outputs": [
    {
     "name": "stdout",
     "output_type": "stream",
     "text": [
      "1/1 [==============================] - 0s 23ms/step\n",
      "Top first words: [(-0.26484933, 'me'), (-1.6776025, '[UNK]'), (-3.9730356, 'odio')]\n",
      "1/1 [==============================] - 0s 23ms/step\n",
      "1/1 [==============================] - 0s 24ms/step\n",
      "1/1 [==============================] - 0s 25ms/step\n",
      "Top translations so far: [(-0.6323493, 'me [UNK]'), (-1.5653938, 'me gustan'), (-2.6096168, '[UNK] los')]\n",
      "1/1 [==============================] - 0s 24ms/step\n",
      "1/1 [==============================] - 0s 23ms/step\n",
      "1/1 [==============================] - 0s 25ms/step\n",
      "Top translations so far: [(-1.2610011, 'me [UNK] las'), (-1.6146307, 'me gustan los'), (-1.6942544, 'me [UNK] los')]\n",
      "1/1 [==============================] - 0s 23ms/step\n",
      "1/1 [==============================] - 0s 24ms/step\n",
      "1/1 [==============================] - 0s 26ms/step\n",
      "Top translations so far: [(-1.7753377, 'me gustan los perros'), (-1.8302231, 'me [UNK] los gatos'), (-2.049029, 'me [UNK] las perros')]\n",
      "1/1 [==============================] - 0s 23ms/step\n",
      "1/1 [==============================] - 0s 24ms/step\n",
      "1/1 [==============================] - 0s 24ms/step\n",
      "Top translations so far: [(-1.775629, 'me gustan los perros y'), (-1.830763, 'me [UNK] los gatos y'), (-2.0493615, 'me [UNK] las perros y')]\n",
      "1/1 [==============================] - 0s 26ms/step\n",
      "1/1 [==============================] - 0s 24ms/step\n",
      "1/1 [==============================] - 0s 24ms/step\n",
      "Top translations so far: [(-1.8949953, 'me [UNK] los gatos y perros'), (-2.1989937, 'me gustan los perros y [UNK]'), (-2.2079651, 'me [UNK] las perros y chicos')]\n",
      "1/1 [==============================] - 0s 24ms/step\n",
      "1/1 [==============================] - 0s 24ms/step\n",
      "1/1 [==============================] - 0s 24ms/step\n",
      "Top translations so far: [(-1.89505, 'me [UNK] los gatos y perros endofseq'), (-2.208049, 'me [UNK] las perros y chicos endofseq'), (-2.4120033, 'me gustan los perros y [UNK] endofseq')]\n"
     ]
    },
    {
     "data": {
      "text/plain": [
       "'me [UNK] los gatos y perros'"
      ]
     },
     "execution_count": 21,
     "metadata": {},
     "output_type": "execute_result"
    }
   ],
   "source": [
    "beam_search(sentence_en, beam_width=3, verbose=True)"
   ]
  }
 ],
 "metadata": {
  "kaggle": {
   "accelerator": "nvidiaTeslaT4",
   "dataSources": [],
   "dockerImageVersionId": 30559,
   "isGpuEnabled": true,
   "isInternetEnabled": true,
   "language": "python",
   "sourceType": "notebook"
  },
  "kernelspec": {
   "display_name": "Python 3",
   "language": "python",
   "name": "python3"
  },
  "language_info": {
   "codemirror_mode": {
    "name": "ipython",
    "version": 3
   },
   "file_extension": ".py",
   "mimetype": "text/x-python",
   "name": "python",
   "nbconvert_exporter": "python",
   "pygments_lexer": "ipython3",
   "version": "3.10.12"
  },
  "papermill": {
   "default_parameters": {},
   "duration": 1050.466095,
   "end_time": "2025-06-16T13:33:31.686283",
   "environment_variables": {},
   "exception": null,
   "input_path": "__notebook__.ipynb",
   "output_path": "__notebook__.ipynb",
   "parameters": {},
   "start_time": "2025-06-16T13:16:01.220188",
   "version": "2.4.0"
  }
 },
 "nbformat": 4,
 "nbformat_minor": 5
}
