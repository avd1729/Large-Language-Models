{
 "cells": [
  {
   "cell_type": "code",
   "execution_count": 1,
   "id": "118b77bc",
   "metadata": {
    "execution": {
     "iopub.execute_input": "2025-07-10T04:23:21.871224Z",
     "iopub.status.busy": "2025-07-10T04:23:21.870720Z",
     "iopub.status.idle": "2025-07-10T04:23:21.877682Z",
     "shell.execute_reply": "2025-07-10T04:23:21.877045Z"
    },
    "papermill": {
     "duration": 0.013448,
     "end_time": "2025-07-10T04:23:21.879294",
     "exception": false,
     "start_time": "2025-07-10T04:23:21.865846",
     "status": "completed"
    },
    "tags": []
   },
   "outputs": [],
   "source": [
    "import warnings\n",
    "warnings.filterwarnings('ignore')"
   ]
  },
  {
   "cell_type": "code",
   "execution_count": 2,
   "id": "710a5655",
   "metadata": {
    "execution": {
     "iopub.execute_input": "2025-07-10T04:23:21.888788Z",
     "iopub.status.busy": "2025-07-10T04:23:21.888330Z",
     "iopub.status.idle": "2025-07-10T04:23:31.020323Z",
     "shell.execute_reply": "2025-07-10T04:23:31.019374Z"
    },
    "papermill": {
     "duration": 9.138772,
     "end_time": "2025-07-10T04:23:31.022483",
     "exception": false,
     "start_time": "2025-07-10T04:23:21.883711",
     "status": "completed"
    },
    "tags": []
   },
   "outputs": [],
   "source": [
    "import numpy as np\n",
    "import tensorflow as tf"
   ]
  },
  {
   "cell_type": "code",
   "execution_count": 3,
   "id": "9cdfa176",
   "metadata": {
    "execution": {
     "iopub.execute_input": "2025-07-10T04:23:31.033119Z",
     "iopub.status.busy": "2025-07-10T04:23:31.032022Z",
     "iopub.status.idle": "2025-07-10T04:23:31.312789Z",
     "shell.execute_reply": "2025-07-10T04:23:31.312114Z"
    },
    "papermill": {
     "duration": 0.287779,
     "end_time": "2025-07-10T04:23:31.314736",
     "exception": false,
     "start_time": "2025-07-10T04:23:31.026957",
     "status": "completed"
    },
    "tags": []
   },
   "outputs": [
    {
     "name": "stdout",
     "output_type": "stream",
     "text": [
      "Downloading data from https://storage.googleapis.com/download.tensorflow.org/data/spa-eng.zip\n",
      "2638744/2638744 [==============================] - 0s 0us/step\n"
     ]
    }
   ],
   "source": [
    "from pathlib import Path\n",
    "\n",
    "url = \"https://storage.googleapis.com/download.tensorflow.org/data/spa-eng.zip\"\n",
    "path = tf.keras.utils.get_file(\"spa-eng.zip\", origin=url, cache_dir=\"datasets\",\n",
    "                               extract=True)\n",
    "text = (Path(path).with_name(\"spa-eng\") / \"spa.txt\").read_text()"
   ]
  },
  {
   "cell_type": "code",
   "execution_count": 4,
   "id": "6700eeb6",
   "metadata": {
    "execution": {
     "iopub.execute_input": "2025-07-10T04:23:31.324872Z",
     "iopub.status.busy": "2025-07-10T04:23:31.324635Z",
     "iopub.status.idle": "2025-07-10T04:23:31.835676Z",
     "shell.execute_reply": "2025-07-10T04:23:31.834677Z"
    },
    "papermill": {
     "duration": 0.518409,
     "end_time": "2025-07-10T04:23:31.837797",
     "exception": false,
     "start_time": "2025-07-10T04:23:31.319388",
     "status": "completed"
    },
    "tags": []
   },
   "outputs": [],
   "source": [
    "np.random.seed(42)\n",
    "\n",
    "text = text.replace(\"¡\", \"\").replace(\"¿\", \"\")\n",
    "pairs = [line.split(\"\\t\") for line in text.splitlines()]\n",
    "np.random.shuffle(pairs)\n",
    "sentences_en, sentences_es = zip(*pairs)  # separates the pairs into 2 lists"
   ]
  },
  {
   "cell_type": "code",
   "execution_count": 5,
   "id": "6315c8fc",
   "metadata": {
    "execution": {
     "iopub.execute_input": "2025-07-10T04:23:31.847999Z",
     "iopub.status.busy": "2025-07-10T04:23:31.847716Z",
     "iopub.status.idle": "2025-07-10T04:23:31.852066Z",
     "shell.execute_reply": "2025-07-10T04:23:31.851202Z"
    },
    "papermill": {
     "duration": 0.011295,
     "end_time": "2025-07-10T04:23:31.853724",
     "exception": false,
     "start_time": "2025-07-10T04:23:31.842429",
     "status": "completed"
    },
    "tags": []
   },
   "outputs": [
    {
     "name": "stdout",
     "output_type": "stream",
     "text": [
      "How boring! => Qué aburrimiento!\n",
      "I love sports. => Adoro el deporte.\n",
      "Would you like to swap jobs? => Te gustaría que intercambiemos los trabajos?\n"
     ]
    }
   ],
   "source": [
    "for i in range(3):\n",
    "    print(sentences_en[i], \"=>\", sentences_es[i])"
   ]
  },
  {
   "cell_type": "code",
   "execution_count": 6,
   "id": "bc8b9152",
   "metadata": {
    "execution": {
     "iopub.execute_input": "2025-07-10T04:23:31.863388Z",
     "iopub.status.busy": "2025-07-10T04:23:31.863150Z",
     "iopub.status.idle": "2025-07-10T04:23:45.132376Z",
     "shell.execute_reply": "2025-07-10T04:23:45.131635Z"
    },
    "papermill": {
     "duration": 13.276309,
     "end_time": "2025-07-10T04:23:45.134456",
     "exception": false,
     "start_time": "2025-07-10T04:23:31.858147",
     "status": "completed"
    },
    "tags": []
   },
   "outputs": [],
   "source": [
    "vocab_size = 1000\n",
    "max_length = 50\n",
    "text_vec_layer_en = tf.keras.layers.TextVectorization(\n",
    "    vocab_size, output_sequence_length=max_length)\n",
    "text_vec_layer_es = tf.keras.layers.TextVectorization(\n",
    "    vocab_size, output_sequence_length=max_length)\n",
    "text_vec_layer_en.adapt(sentences_en)\n",
    "text_vec_layer_es.adapt([f\"startofseq {s} endofseq\" for s in sentences_es])"
   ]
  },
  {
   "cell_type": "code",
   "execution_count": 7,
   "id": "51d67616",
   "metadata": {
    "execution": {
     "iopub.execute_input": "2025-07-10T04:23:45.144742Z",
     "iopub.status.busy": "2025-07-10T04:23:45.144481Z",
     "iopub.status.idle": "2025-07-10T04:23:45.153453Z",
     "shell.execute_reply": "2025-07-10T04:23:45.152678Z"
    },
    "papermill": {
     "duration": 0.01574,
     "end_time": "2025-07-10T04:23:45.155082",
     "exception": false,
     "start_time": "2025-07-10T04:23:45.139342",
     "status": "completed"
    },
    "tags": []
   },
   "outputs": [
    {
     "data": {
      "text/plain": [
       "['', '[UNK]', 'the', 'i', 'to', 'you', 'tom', 'a', 'is', 'he']"
      ]
     },
     "execution_count": 7,
     "metadata": {},
     "output_type": "execute_result"
    }
   ],
   "source": [
    "text_vec_layer_en.get_vocabulary()[:10]"
   ]
  },
  {
   "cell_type": "code",
   "execution_count": 8,
   "id": "218f2526",
   "metadata": {
    "execution": {
     "iopub.execute_input": "2025-07-10T04:23:45.165024Z",
     "iopub.status.busy": "2025-07-10T04:23:45.164566Z",
     "iopub.status.idle": "2025-07-10T04:23:45.171565Z",
     "shell.execute_reply": "2025-07-10T04:23:45.170919Z"
    },
    "papermill": {
     "duration": 0.013521,
     "end_time": "2025-07-10T04:23:45.173122",
     "exception": false,
     "start_time": "2025-07-10T04:23:45.159601",
     "status": "completed"
    },
    "tags": []
   },
   "outputs": [
    {
     "data": {
      "text/plain": [
       "['', '[UNK]', 'startofseq', 'endofseq', 'de', 'que', 'a', 'no', 'tom', 'la']"
      ]
     },
     "execution_count": 8,
     "metadata": {},
     "output_type": "execute_result"
    }
   ],
   "source": [
    "text_vec_layer_es.get_vocabulary()[:10]"
   ]
  },
  {
   "cell_type": "code",
   "execution_count": 9,
   "id": "022bc285",
   "metadata": {
    "execution": {
     "iopub.execute_input": "2025-07-10T04:23:45.183276Z",
     "iopub.status.busy": "2025-07-10T04:23:45.183068Z",
     "iopub.status.idle": "2025-07-10T04:23:46.017185Z",
     "shell.execute_reply": "2025-07-10T04:23:46.016461Z"
    },
    "papermill": {
     "duration": 0.841268,
     "end_time": "2025-07-10T04:23:46.019161",
     "exception": false,
     "start_time": "2025-07-10T04:23:45.177893",
     "status": "completed"
    },
    "tags": []
   },
   "outputs": [],
   "source": [
    "X_train = tf.constant(sentences_en[:100_000])\n",
    "X_valid = tf.constant(sentences_en[100_000:])\n",
    "X_train_dec = tf.constant([f\"startofseq {s}\" for s in sentences_es[:100_000]])\n",
    "X_valid_dec = tf.constant([f\"startofseq {s}\" for s in sentences_es[100_000:]])\n",
    "Y_train = text_vec_layer_es([f\"{s} endofseq\" for s in sentences_es[:100_000]])\n",
    "Y_valid = text_vec_layer_es([f\"{s} endofseq\" for s in sentences_es[100_000:]])"
   ]
  },
  {
   "cell_type": "code",
   "execution_count": 10,
   "id": "f9031e04",
   "metadata": {
    "execution": {
     "iopub.execute_input": "2025-07-10T04:23:46.029860Z",
     "iopub.status.busy": "2025-07-10T04:23:46.029172Z",
     "iopub.status.idle": "2025-07-10T04:23:46.043934Z",
     "shell.execute_reply": "2025-07-10T04:23:46.043126Z"
    },
    "papermill": {
     "duration": 0.02172,
     "end_time": "2025-07-10T04:23:46.045578",
     "exception": false,
     "start_time": "2025-07-10T04:23:46.023858",
     "status": "completed"
    },
    "tags": []
   },
   "outputs": [],
   "source": [
    "tf.random.set_seed(42) \n",
    "encoder_inputs = tf.keras.layers.Input(shape=[], dtype=tf.string)\n",
    "decoder_inputs = tf.keras.layers.Input(shape=[], dtype=tf.string)"
   ]
  },
  {
   "cell_type": "code",
   "execution_count": 11,
   "id": "8df9c189",
   "metadata": {
    "execution": {
     "iopub.execute_input": "2025-07-10T04:23:46.056252Z",
     "iopub.status.busy": "2025-07-10T04:23:46.055491Z",
     "iopub.status.idle": "2025-07-10T04:23:46.145346Z",
     "shell.execute_reply": "2025-07-10T04:23:46.144474Z"
    },
    "papermill": {
     "duration": 0.09714,
     "end_time": "2025-07-10T04:23:46.147358",
     "exception": false,
     "start_time": "2025-07-10T04:23:46.050218",
     "status": "completed"
    },
    "tags": []
   },
   "outputs": [],
   "source": [
    "embed_size = 128\n",
    "encoder_input_ids = text_vec_layer_en(encoder_inputs)\n",
    "decoder_input_ids = text_vec_layer_es(decoder_inputs)\n",
    "encoder_embedding_layer = tf.keras.layers.Embedding(vocab_size, embed_size,\n",
    "                                                    mask_zero=True)\n",
    "decoder_embedding_layer = tf.keras.layers.Embedding(vocab_size, embed_size,\n",
    "                                                    mask_zero=True)\n",
    "encoder_embeddings = encoder_embedding_layer(encoder_input_ids)\n",
    "decoder_embeddings = decoder_embedding_layer(decoder_input_ids)"
   ]
  },
  {
   "cell_type": "code",
   "execution_count": 12,
   "id": "fabba1fd",
   "metadata": {
    "execution": {
     "iopub.execute_input": "2025-07-10T04:23:46.157337Z",
     "iopub.status.busy": "2025-07-10T04:23:46.157085Z",
     "iopub.status.idle": "2025-07-10T04:23:46.161698Z",
     "shell.execute_reply": "2025-07-10T04:23:46.160980Z"
    },
    "papermill": {
     "duration": 0.011456,
     "end_time": "2025-07-10T04:23:46.163310",
     "exception": false,
     "start_time": "2025-07-10T04:23:46.151854",
     "status": "completed"
    },
    "tags": []
   },
   "outputs": [],
   "source": [
    "def translate(sentence_en):\n",
    "    translation = \"\"\n",
    "    for word_idx in range(max_length):\n",
    "        X = np.array([sentence_en])  # encoder input \n",
    "        X_dec = np.array([\"startofseq \" + translation])  # decoder input\n",
    "        y_proba = model.predict((X, X_dec))[0, word_idx]  # last token's probas\n",
    "        predicted_word_id = np.argmax(y_proba)\n",
    "        predicted_word = text_vec_layer_es.get_vocabulary()[predicted_word_id]\n",
    "        if predicted_word == \"endofseq\":\n",
    "            break\n",
    "        translation += \" \" + predicted_word\n",
    "    return translation.strip()"
   ]
  },
  {
   "cell_type": "code",
   "execution_count": 13,
   "id": "46143c7b",
   "metadata": {
    "execution": {
     "iopub.execute_input": "2025-07-10T04:23:46.173158Z",
     "iopub.status.busy": "2025-07-10T04:23:46.172882Z",
     "iopub.status.idle": "2025-07-10T04:23:46.192057Z",
     "shell.execute_reply": "2025-07-10T04:23:46.191432Z"
    },
    "papermill": {
     "duration": 0.025805,
     "end_time": "2025-07-10T04:23:46.193658",
     "exception": false,
     "start_time": "2025-07-10T04:23:46.167853",
     "status": "completed"
    },
    "tags": []
   },
   "outputs": [],
   "source": [
    "tf.random.set_seed(42)  # extra code – ensures reproducibility on CPU\n",
    "encoder = tf.keras.layers.Bidirectional(\n",
    "    tf.keras.layers.LSTM(256, return_sequences=True, return_state=True))"
   ]
  },
  {
   "cell_type": "code",
   "execution_count": 14,
   "id": "77577587",
   "metadata": {
    "execution": {
     "iopub.execute_input": "2025-07-10T04:23:46.203430Z",
     "iopub.status.busy": "2025-07-10T04:23:46.202973Z",
     "iopub.status.idle": "2025-07-10T04:23:48.748179Z",
     "shell.execute_reply": "2025-07-10T04:23:48.747120Z"
    },
    "papermill": {
     "duration": 2.552121,
     "end_time": "2025-07-10T04:23:48.750222",
     "exception": false,
     "start_time": "2025-07-10T04:23:46.198101",
     "status": "completed"
    },
    "tags": []
   },
   "outputs": [],
   "source": [
    "encoder_outputs, *encoder_state = encoder(encoder_embeddings)\n",
    "encoder_state = [tf.concat(encoder_state[::2], axis=-1),  # short-term (0 & 2)\n",
    "                 tf.concat(encoder_state[1::2], axis=-1)]  # long-term (1 & 3)\n",
    "decoder = tf.keras.layers.LSTM(512, return_sequences=True)\n",
    "decoder_outputs = decoder(decoder_embeddings, initial_state=encoder_state)"
   ]
  },
  {
   "cell_type": "code",
   "execution_count": 15,
   "id": "1abee9ff",
   "metadata": {
    "execution": {
     "iopub.execute_input": "2025-07-10T04:23:48.761227Z",
     "iopub.status.busy": "2025-07-10T04:23:48.760966Z",
     "iopub.status.idle": "2025-07-10T04:23:48.800340Z",
     "shell.execute_reply": "2025-07-10T04:23:48.799726Z"
    },
    "papermill": {
     "duration": 0.046607,
     "end_time": "2025-07-10T04:23:48.802002",
     "exception": false,
     "start_time": "2025-07-10T04:23:48.755395",
     "status": "completed"
    },
    "tags": []
   },
   "outputs": [],
   "source": [
    "attention_layer = tf.keras.layers.Attention()\n",
    "attention_outputs = attention_layer([decoder_outputs, encoder_outputs])\n",
    "output_layer = tf.keras.layers.Dense(vocab_size, activation=\"softmax\")\n",
    "Y_proba = output_layer(attention_outputs)"
   ]
  },
  {
   "cell_type": "code",
   "execution_count": 16,
   "id": "dbf921c6",
   "metadata": {
    "execution": {
     "iopub.execute_input": "2025-07-10T04:23:48.811731Z",
     "iopub.status.busy": "2025-07-10T04:23:48.811474Z",
     "iopub.status.idle": "2025-07-10T04:34:14.876558Z",
     "shell.execute_reply": "2025-07-10T04:34:14.875505Z"
    },
    "papermill": {
     "duration": 626.072434,
     "end_time": "2025-07-10T04:34:14.878843",
     "exception": false,
     "start_time": "2025-07-10T04:23:48.806409",
     "status": "completed"
    },
    "tags": []
   },
   "outputs": [
    {
     "name": "stdout",
     "output_type": "stream",
     "text": [
      "Epoch 1/10\n",
      "3125/3125 [==============================] - 100s 28ms/step - loss: 3.1107 - accuracy: 0.4181 - val_loss: 1.9885 - val_accuracy: 0.5699\n",
      "Epoch 2/10\n",
      "3125/3125 [==============================] - 59s 19ms/step - loss: 1.6873 - accuracy: 0.6184 - val_loss: 1.5349 - val_accuracy: 0.6466\n",
      "Epoch 3/10\n",
      "3125/3125 [==============================] - 58s 18ms/step - loss: 1.3942 - accuracy: 0.6707 - val_loss: 1.3934 - val_accuracy: 0.6738\n",
      "Epoch 4/10\n",
      "3125/3125 [==============================] - 59s 19ms/step - loss: 1.2450 - accuracy: 0.6982 - val_loss: 1.3262 - val_accuracy: 0.6865\n",
      "Epoch 5/10\n",
      "3125/3125 [==============================] - 58s 19ms/step - loss: 1.1364 - accuracy: 0.7183 - val_loss: 1.2879 - val_accuracy: 0.6942\n",
      "Epoch 6/10\n",
      "3125/3125 [==============================] - 59s 19ms/step - loss: 1.0476 - accuracy: 0.7359 - val_loss: 1.2822 - val_accuracy: 0.6954\n",
      "Epoch 7/10\n",
      "3125/3125 [==============================] - 58s 19ms/step - loss: 0.9719 - accuracy: 0.7508 - val_loss: 1.2760 - val_accuracy: 0.6992\n",
      "Epoch 8/10\n",
      "3125/3125 [==============================] - 58s 19ms/step - loss: 0.9046 - accuracy: 0.7646 - val_loss: 1.2912 - val_accuracy: 0.7011\n",
      "Epoch 9/10\n",
      "3125/3125 [==============================] - 59s 19ms/step - loss: 0.8457 - accuracy: 0.7772 - val_loss: 1.3050 - val_accuracy: 0.7009\n",
      "Epoch 10/10\n",
      "3125/3125 [==============================] - 58s 18ms/step - loss: 0.7946 - accuracy: 0.7887 - val_loss: 1.3251 - val_accuracy: 0.6989\n"
     ]
    },
    {
     "data": {
      "text/plain": [
       "<keras.callbacks.History at 0x79b42c5e7760>"
      ]
     },
     "execution_count": 16,
     "metadata": {},
     "output_type": "execute_result"
    }
   ],
   "source": [
    "model = tf.keras.Model(inputs=[encoder_inputs, decoder_inputs],\n",
    "                       outputs=[Y_proba])\n",
    "model.compile(loss=\"sparse_categorical_crossentropy\", optimizer=\"nadam\",\n",
    "              metrics=[\"accuracy\"])\n",
    "model.fit((X_train, X_train_dec), Y_train, epochs=10,\n",
    "          validation_data=((X_valid, X_valid_dec), Y_valid))"
   ]
  },
  {
   "cell_type": "code",
   "execution_count": 17,
   "id": "c6247ed0",
   "metadata": {
    "execution": {
     "iopub.execute_input": "2025-07-10T04:34:15.854473Z",
     "iopub.status.busy": "2025-07-10T04:34:15.854143Z",
     "iopub.status.idle": "2025-07-10T04:34:19.861887Z",
     "shell.execute_reply": "2025-07-10T04:34:19.860887Z"
    },
    "papermill": {
     "duration": 4.46633,
     "end_time": "2025-07-10T04:34:19.863836",
     "exception": false,
     "start_time": "2025-07-10T04:34:15.397506",
     "status": "completed"
    },
    "tags": []
   },
   "outputs": [
    {
     "name": "stdout",
     "output_type": "stream",
     "text": [
      "1/1 [==============================] - 3s 3s/step\n",
      "1/1 [==============================] - 0s 23ms/step\n",
      "1/1 [==============================] - 0s 25ms/step\n",
      "1/1 [==============================] - 0s 24ms/step\n",
      "1/1 [==============================] - 0s 23ms/step\n",
      "1/1 [==============================] - 0s 22ms/step\n",
      "1/1 [==============================] - 0s 23ms/step\n",
      "1/1 [==============================] - 0s 23ms/step\n",
      "1/1 [==============================] - 0s 23ms/step\n",
      "1/1 [==============================] - 0s 23ms/step\n"
     ]
    },
    {
     "data": {
      "text/plain": [
       "'me gusta el fútbol y también a la playa'"
      ]
     },
     "execution_count": 17,
     "metadata": {},
     "output_type": "execute_result"
    }
   ],
   "source": [
    "translate(\"I like soccer and also going to the beach\")"
   ]
  },
  {
   "cell_type": "code",
   "execution_count": 18,
   "id": "2694a233",
   "metadata": {
    "execution": {
     "iopub.execute_input": "2025-07-10T04:34:20.759355Z",
     "iopub.status.busy": "2025-07-10T04:34:20.759009Z",
     "iopub.status.idle": "2025-07-10T04:34:20.873994Z",
     "shell.execute_reply": "2025-07-10T04:34:20.873250Z"
    },
    "papermill": {
     "duration": 0.591357,
     "end_time": "2025-07-10T04:34:20.875755",
     "exception": false,
     "start_time": "2025-07-10T04:34:20.284398",
     "status": "completed"
    },
    "tags": []
   },
   "outputs": [],
   "source": [
    "max_length = 50  # max length in the whole training set\n",
    "embed_size = 128\n",
    "tf.random.set_seed(42)  # extra code – ensures reproducibility on CPU\n",
    "pos_embed_layer = tf.keras.layers.Embedding(max_length, embed_size)\n",
    "batch_max_len_enc = tf.shape(encoder_embeddings)[1]\n",
    "encoder_in = encoder_embeddings + pos_embed_layer(tf.range(batch_max_len_enc))\n",
    "batch_max_len_dec = tf.shape(decoder_embeddings)[1]\n",
    "decoder_in = decoder_embeddings + pos_embed_layer(tf.range(batch_max_len_dec))"
   ]
  },
  {
   "cell_type": "code",
   "execution_count": 19,
   "id": "3db84e44",
   "metadata": {
    "execution": {
     "iopub.execute_input": "2025-07-10T04:34:21.729597Z",
     "iopub.status.busy": "2025-07-10T04:34:21.729265Z",
     "iopub.status.idle": "2025-07-10T04:34:21.736548Z",
     "shell.execute_reply": "2025-07-10T04:34:21.735827Z"
    },
    "papermill": {
     "duration": 0.445555,
     "end_time": "2025-07-10T04:34:21.738100",
     "exception": false,
     "start_time": "2025-07-10T04:34:21.292545",
     "status": "completed"
    },
    "tags": []
   },
   "outputs": [],
   "source": [
    "class PositionalEncoding(tf.keras.layers.Layer):\n",
    "    def __init__(self, max_length, embed_size, dtype=tf.float32, **kwargs):\n",
    "        super().__init__(dtype=dtype, **kwargs)\n",
    "        assert embed_size % 2 == 0, \"embed_size must be even\"\n",
    "        p, i = np.meshgrid(np.arange(max_length),\n",
    "                           2 * np.arange(embed_size // 2))\n",
    "        pos_emb = np.empty((1, max_length, embed_size))\n",
    "        pos_emb[0, :, ::2] = np.sin(p / 10_000 ** (i / embed_size)).T\n",
    "        pos_emb[0, :, 1::2] = np.cos(p / 10_000 ** (i / embed_size)).T\n",
    "        self.pos_encodings = tf.constant(pos_emb.astype(self.dtype))\n",
    "        self.supports_masking = True\n",
    "\n",
    "    def call(self, inputs):\n",
    "        batch_max_length = tf.shape(inputs)[1]\n",
    "        return inputs + self.pos_encodings[:, :batch_max_length]"
   ]
  },
  {
   "cell_type": "code",
   "execution_count": 20,
   "id": "10a31b67",
   "metadata": {
    "execution": {
     "iopub.execute_input": "2025-07-10T04:34:22.621356Z",
     "iopub.status.busy": "2025-07-10T04:34:22.621039Z",
     "iopub.status.idle": "2025-07-10T04:34:22.681084Z",
     "shell.execute_reply": "2025-07-10T04:34:22.680407Z"
    },
    "papermill": {
     "duration": 0.531299,
     "end_time": "2025-07-10T04:34:22.682748",
     "exception": false,
     "start_time": "2025-07-10T04:34:22.151449",
     "status": "completed"
    },
    "tags": []
   },
   "outputs": [],
   "source": [
    "pos_embed_layer = PositionalEncoding(max_length, embed_size)\n",
    "encoder_in = pos_embed_layer(encoder_embeddings)\n",
    "decoder_in = pos_embed_layer(decoder_embeddings)"
   ]
  },
  {
   "cell_type": "code",
   "execution_count": 21,
   "id": "89e26cbd",
   "metadata": {
    "execution": {
     "iopub.execute_input": "2025-07-10T04:34:23.558978Z",
     "iopub.status.busy": "2025-07-10T04:34:23.558619Z",
     "iopub.status.idle": "2025-07-10T04:34:23.848325Z",
     "shell.execute_reply": "2025-07-10T04:34:23.847396Z"
    },
    "papermill": {
     "duration": 0.755768,
     "end_time": "2025-07-10T04:34:23.850170",
     "exception": false,
     "start_time": "2025-07-10T04:34:23.094402",
     "status": "completed"
    },
    "tags": []
   },
   "outputs": [],
   "source": [
    "N = 2  # instead of 6\n",
    "num_heads = 8\n",
    "dropout_rate = 0.1\n",
    "n_units = 128  # for the first Dense layer in each Feed Forward block\n",
    "encoder_pad_mask = tf.math.not_equal(encoder_input_ids, 0)[:, tf.newaxis]\n",
    "Z = encoder_in\n",
    "for _ in range(N):\n",
    "    skip = Z\n",
    "    attn_layer = tf.keras.layers.MultiHeadAttention(\n",
    "        num_heads=num_heads, key_dim=embed_size, dropout=dropout_rate)\n",
    "    Z = attn_layer(Z, value=Z, attention_mask=encoder_pad_mask)\n",
    "    Z = tf.keras.layers.LayerNormalization()(tf.keras.layers.Add()([Z, skip]))\n",
    "    skip = Z\n",
    "    Z = tf.keras.layers.Dense(n_units, activation=\"relu\")(Z)\n",
    "    Z = tf.keras.layers.Dense(embed_size)(Z)\n",
    "    Z = tf.keras.layers.Dropout(dropout_rate)(Z)\n",
    "    Z = tf.keras.layers.LayerNormalization()(tf.keras.layers.Add()([Z, skip]))"
   ]
  },
  {
   "cell_type": "code",
   "execution_count": 22,
   "id": "74ddd45a",
   "metadata": {
    "execution": {
     "iopub.execute_input": "2025-07-10T04:34:24.733668Z",
     "iopub.status.busy": "2025-07-10T04:34:24.733301Z",
     "iopub.status.idle": "2025-07-10T04:34:24.760706Z",
     "shell.execute_reply": "2025-07-10T04:34:24.760072Z"
    },
    "papermill": {
     "duration": 0.492938,
     "end_time": "2025-07-10T04:34:24.762418",
     "exception": false,
     "start_time": "2025-07-10T04:34:24.269480",
     "status": "completed"
    },
    "tags": []
   },
   "outputs": [],
   "source": [
    "decoder_pad_mask = tf.math.not_equal(decoder_input_ids, 0)[:, tf.newaxis]\n",
    "causal_mask = tf.linalg.band_part(  # creates a lower triangular matrix\n",
    "    tf.ones((batch_max_len_dec, batch_max_len_dec), tf.bool), -1, 0)"
   ]
  },
  {
   "cell_type": "code",
   "execution_count": 23,
   "id": "98b7de3c",
   "metadata": {
    "execution": {
     "iopub.execute_input": "2025-07-10T04:34:25.633329Z",
     "iopub.status.busy": "2025-07-10T04:34:25.633012Z",
     "iopub.status.idle": "2025-07-10T04:34:26.026991Z",
     "shell.execute_reply": "2025-07-10T04:34:26.026265Z"
    },
    "papermill": {
     "duration": 0.854714,
     "end_time": "2025-07-10T04:34:26.028872",
     "exception": false,
     "start_time": "2025-07-10T04:34:25.174158",
     "status": "completed"
    },
    "tags": []
   },
   "outputs": [],
   "source": [
    "encoder_outputs = Z  # let's save the encoder's final outputs\n",
    "Z = decoder_in  # the decoder starts with its own inputs\n",
    "for _ in range(N):\n",
    "    skip = Z\n",
    "    attn_layer = tf.keras.layers.MultiHeadAttention(\n",
    "        num_heads=num_heads, key_dim=embed_size, dropout=dropout_rate)\n",
    "    Z = attn_layer(Z, value=Z, attention_mask=causal_mask & decoder_pad_mask)\n",
    "    Z = tf.keras.layers.LayerNormalization()(tf.keras.layers.Add()([Z, skip]))\n",
    "    skip = Z\n",
    "    attn_layer = tf.keras.layers.MultiHeadAttention(\n",
    "        num_heads=num_heads, key_dim=embed_size, dropout=dropout_rate)\n",
    "    Z = attn_layer(Z, value=encoder_outputs, attention_mask=encoder_pad_mask)\n",
    "    Z = tf.keras.layers.LayerNormalization()(tf.keras.layers.Add()([Z, skip]))\n",
    "    skip = Z\n",
    "    Z = tf.keras.layers.Dense(n_units, activation=\"relu\")(Z)\n",
    "    Z = tf.keras.layers.Dense(embed_size)(Z)\n",
    "    Z = tf.keras.layers.LayerNormalization()(tf.keras.layers.Add()([Z, skip]))"
   ]
  },
  {
   "cell_type": "code",
   "execution_count": 24,
   "id": "19d0ab2d",
   "metadata": {
    "execution": {
     "iopub.execute_input": "2025-07-10T04:34:26.912638Z",
     "iopub.status.busy": "2025-07-10T04:34:26.912307Z",
     "iopub.status.idle": "2025-07-10T04:58:48.469371Z",
     "shell.execute_reply": "2025-07-10T04:58:48.468414Z"
    },
    "papermill": {
     "duration": 1461.977772,
     "end_time": "2025-07-10T04:58:48.471281",
     "exception": false,
     "start_time": "2025-07-10T04:34:26.493509",
     "status": "completed"
    },
    "tags": []
   },
   "outputs": [
    {
     "name": "stdout",
     "output_type": "stream",
     "text": [
      "Epoch 1/10\n",
      "3125/3125 [==============================] - 188s 52ms/step - loss: 1.9525 - accuracy: 0.5823 - val_loss: 1.4560 - val_accuracy: 0.6583\n",
      "Epoch 2/10\n",
      "3125/3125 [==============================] - 142s 46ms/step - loss: 1.4137 - accuracy: 0.6623 - val_loss: 1.3343 - val_accuracy: 0.6799\n",
      "Epoch 3/10\n",
      "3125/3125 [==============================] - 141s 45ms/step - loss: 1.3084 - accuracy: 0.6812 - val_loss: 1.2674 - val_accuracy: 0.6953\n",
      "Epoch 4/10\n",
      "3125/3125 [==============================] - 142s 45ms/step - loss: 1.2399 - accuracy: 0.6936 - val_loss: 1.2162 - val_accuracy: 0.7035\n",
      "Epoch 5/10\n",
      "3125/3125 [==============================] - 141s 45ms/step - loss: 1.1934 - accuracy: 0.7015 - val_loss: 1.1877 - val_accuracy: 0.7077\n",
      "Epoch 6/10\n",
      "3125/3125 [==============================] - 142s 45ms/step - loss: 1.1527 - accuracy: 0.7091 - val_loss: 1.1613 - val_accuracy: 0.7108\n",
      "Epoch 7/10\n",
      "3125/3125 [==============================] - 141s 45ms/step - loss: 1.1254 - accuracy: 0.7146 - val_loss: 1.1423 - val_accuracy: 0.7177\n",
      "Epoch 8/10\n",
      "3125/3125 [==============================] - 142s 45ms/step - loss: 1.0991 - accuracy: 0.7193 - val_loss: 1.1261 - val_accuracy: 0.7205\n",
      "Epoch 9/10\n",
      "3125/3125 [==============================] - 142s 45ms/step - loss: 1.0749 - accuracy: 0.7238 - val_loss: 1.1030 - val_accuracy: 0.7251\n",
      "Epoch 10/10\n",
      "3125/3125 [==============================] - 140s 45ms/step - loss: 1.0597 - accuracy: 0.7264 - val_loss: 1.0799 - val_accuracy: 0.7305\n"
     ]
    },
    {
     "data": {
      "text/plain": [
       "<keras.callbacks.History at 0x79b3946a11b0>"
      ]
     },
     "execution_count": 24,
     "metadata": {},
     "output_type": "execute_result"
    }
   ],
   "source": [
    "Y_proba = tf.keras.layers.Dense(vocab_size, activation=\"softmax\")(Z)\n",
    "model = tf.keras.Model(inputs=[encoder_inputs, decoder_inputs],\n",
    "                       outputs=[Y_proba])\n",
    "model.compile(loss=\"sparse_categorical_crossentropy\", optimizer=\"nadam\",\n",
    "              metrics=[\"accuracy\"])\n",
    "model.fit((X_train, X_train_dec), Y_train, epochs=10,\n",
    "          validation_data=((X_valid, X_valid_dec), Y_valid))"
   ]
  },
  {
   "cell_type": "code",
   "execution_count": 25,
   "id": "780a81aa",
   "metadata": {
    "execution": {
     "iopub.execute_input": "2025-07-10T04:58:50.926635Z",
     "iopub.status.busy": "2025-07-10T04:58:50.925987Z",
     "iopub.status.idle": "2025-07-10T04:58:52.924764Z",
     "shell.execute_reply": "2025-07-10T04:58:52.923813Z"
    },
    "papermill": {
     "duration": 3.190181,
     "end_time": "2025-07-10T04:58:52.926507",
     "exception": false,
     "start_time": "2025-07-10T04:58:49.736326",
     "status": "completed"
    },
    "tags": []
   },
   "outputs": [
    {
     "name": "stdout",
     "output_type": "stream",
     "text": [
      "1/1 [==============================] - 1s 1s/step\n",
      "1/1 [==============================] - 0s 25ms/step\n",
      "1/1 [==============================] - 0s 26ms/step\n",
      "1/1 [==============================] - 0s 27ms/step\n",
      "1/1 [==============================] - 0s 27ms/step\n",
      "1/1 [==============================] - 0s 25ms/step\n",
      "1/1 [==============================] - 0s 26ms/step\n",
      "1/1 [==============================] - 0s 27ms/step\n",
      "1/1 [==============================] - 0s 25ms/step\n",
      "1/1 [==============================] - 0s 25ms/step\n",
      "1/1 [==============================] - 0s 26ms/step\n"
     ]
    },
    {
     "data": {
      "text/plain": [
       "'me gusta el fútbol y también iba a la playa'"
      ]
     },
     "execution_count": 25,
     "metadata": {},
     "output_type": "execute_result"
    }
   ],
   "source": [
    "translate(\"I like soccer and also going to the beach\")"
   ]
  }
 ],
 "metadata": {
  "kaggle": {
   "accelerator": "nvidiaTeslaT4",
   "dataSources": [],
   "dockerImageVersionId": 30559,
   "isGpuEnabled": true,
   "isInternetEnabled": true,
   "language": "python",
   "sourceType": "notebook"
  },
  "kernelspec": {
   "display_name": "Python 3",
   "language": "python",
   "name": "python3"
  },
  "language_info": {
   "codemirror_mode": {
    "name": "ipython",
    "version": 3
   },
   "file_extension": ".py",
   "mimetype": "text/x-python",
   "name": "python",
   "nbconvert_exporter": "python",
   "pygments_lexer": "ipython3",
   "version": "3.10.12"
  },
  "papermill": {
   "default_parameters": {},
   "duration": 2139.049839,
   "end_time": "2025-07-10T04:58:57.869982",
   "environment_variables": {},
   "exception": null,
   "input_path": "__notebook__.ipynb",
   "output_path": "__notebook__.ipynb",
   "parameters": {},
   "start_time": "2025-07-10T04:23:18.820143",
   "version": "2.4.0"
  }
 },
 "nbformat": 4,
 "nbformat_minor": 5
}
